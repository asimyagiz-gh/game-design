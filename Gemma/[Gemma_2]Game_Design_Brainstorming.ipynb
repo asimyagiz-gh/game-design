{
  "cells": [
    {
      "cell_type": "markdown",
      "metadata": {
        "id": "N0WWINoe_H78"
      },
      "source": [
        "##### Copyright 2024 Google LLC."
      ]
    },
    {
      "cell_type": "code",
      "execution_count": 1,
      "metadata": {
        "id": "KCbtuTFR_Qot"
      },
      "outputs": [],
      "source": [
        "# @title Licensed under the Apache License, Version 2.0 (the \"License\");\n",
        "# you may not use this file except in compliance with the License.\n",
        "# You may obtain a copy of the License at\n",
        "#\n",
        "# https://www.apache.org/licenses/LICENSE-2.0\n",
        "#\n",
        "# Unless required by applicable law or agreed to in writing, software\n",
        "# distributed under the License is distributed on an \"AS IS\" BASIS,\n",
        "# WITHOUT WARRANTIES OR CONDITIONS OF ANY KIND, either express or implied.\n",
        "# See the License for the specific language governing permissions and\n",
        "# limitations under the License."
      ]
    },
    {
      "cell_type": "markdown",
      "metadata": {
        "id": "H3LrD1zZ_T1v"
      },
      "source": [
        "# Gemma - Game Design Brainstorming\n",
        "\n",
        "This cookbook illustrates how you can employ the instruction-tuned model version of Gemma as a chatbot to aid in your game design process by fostering brainstorming sessions effectively.\n",
        "\n",
        "<table align=\"left\">\n",
        "  <td>\n",
        "    <a target=\"_blank\" href=\"https://colab.research.google.com/github/google-gemini/gemma-cookbook/blob/main/Gemma/[Gemma_2]Game_Design_Brainstorming.ipynb\"><img src=\"https://www.tensorflow.org/images/colab_logo_32px.png\" />Run in Google Colab</a>\n",
        "  </td>\n",
        "</table>"
      ]
    },
    {
      "cell_type": "markdown",
      "metadata": {
        "id": "00NyqqWcAXw1"
      },
      "source": [
        "## Setup\n",
        "\n",
        "### Select the Colab runtime\n",
        "To complete this tutorial, you'll need to have a Colab runtime with sufficient resources to run the Gemma model. In this case, you can use a T4 GPU:\n",
        "\n",
        "1. In the upper-right of the Colab window, select **▾ (Additional connection options)**.\n",
        "2. Select **Change runtime type**.\n",
        "3. Under **Hardware accelerator**, select **T4 GPU**.\n",
        "\n",
        "\n",
        "### Gemma setup on Kaggle\n",
        "To complete this tutorial, you'll first need to complete the setup instructions at [Gemma setup](https://ai.google.dev/gemma/docs/setup). The Gemma setup instructions show you how to do the following:\n",
        "\n",
        "* Get access to Gemma on kaggle.com.\n",
        "* Select a Colab runtime with sufficient resources to run the Gemma 2B model.\n",
        "* Generate and configure a Kaggle username and API key.\n",
        "\n",
        "After you've completed the Gemma setup, move on to the next section, where you'll set environment variables for your Colab environment."
      ]
    },
    {
      "cell_type": "markdown",
      "metadata": {
        "id": "ufH54qq0A7aJ"
      },
      "source": [
        "### Set environment variables\n",
        "\n",
        "Set environment variables for `KAGGLE_USERNAME` and `KAGGLE_KEY`."
      ]
    },
    {
      "cell_type": "code",
      "execution_count": 2,
      "metadata": {
        "id": "ybKQhkYrBNkv"
      },
      "outputs": [],
      "source": [
        "import os\n",
        "from google.colab import userdata\n",
        "\n",
        "os.environ[\"KERAS_BACKEND\"] = \"jax\"  # Or \"tensorflow\" or \"torch\".\n",
        "\n",
        "# Note: `userdata.get` is a Colab API. If you're not using Colab, set the env\n",
        "# vars as appropriate for your system.\n",
        "os.environ[\"KAGGLE_USERNAME\"] = userdata.get(\"KAGGLE_USERNAME\")\n",
        "os.environ[\"KAGGLE_KEY\"] = userdata.get(\"KAGGLE_KEY\")"
      ]
    },
    {
      "cell_type": "markdown",
      "metadata": {
        "id": "BLwEJIILBQ17"
      },
      "source": [
        "### Install dependencies\n",
        "\n",
        "Install Keras and KerasNLP."
      ]
    },
    {
      "cell_type": "code",
      "execution_count": 3,
      "metadata": {
        "id": "VPurjYcxBTxl",
        "outputId": "3e2b39fe-b764-4774-af7d-e312b186deed",
        "colab": {
          "base_uri": "https://localhost:8080/"
        }
      },
      "outputs": [
        {
          "output_type": "stream",
          "name": "stdout",
          "text": [
            "\u001b[2K   \u001b[90m━━━━━━━━━━━━━━━━━━━━━━━━━━━━━━━━━━━━━━━━\u001b[0m \u001b[32m792.1/792.1 kB\u001b[0m \u001b[31m18.6 MB/s\u001b[0m eta \u001b[36m0:00:00\u001b[0m\n",
            "\u001b[2K   \u001b[90m━━━━━━━━━━━━━━━━━━━━━━━━━━━━━━━━━━━━━━━━\u001b[0m \u001b[32m1.3/1.3 MB\u001b[0m \u001b[31m23.5 MB/s\u001b[0m eta \u001b[36m0:00:00\u001b[0m\n",
            "\u001b[?25h"
          ]
        }
      ],
      "source": [
        "# Install Keras 3 last. See https://keras.io/getting_started/ for more details.\n",
        "!pip install -q -U keras-nlp\n",
        "!pip install -q -U keras"
      ]
    },
    {
      "cell_type": "markdown",
      "metadata": {
        "id": "QOj_rAJtkOtV"
      },
      "source": [
        "## Core Concept"
      ]
    },
    {
      "cell_type": "code",
      "execution_count": 4,
      "metadata": {
        "id": "7Fzu_ah4kR9E"
      },
      "outputs": [],
      "source": [
        "# A super concise description of your game\n",
        "pitch = \"In the heart of a reimagined Joseon Dynasty, where steam-powered machines and clockwork contraptions reign supreme, embark on an epic adventure to unravel the mysteries of a forgotten past and shape the destiny of a nation on the brink of revolution.\""
      ]
    },
    {
      "cell_type": "markdown",
      "metadata": {
        "id": "cwjJp6YZj2jp"
      },
      "source": [
        "## Load Model"
      ]
    },
    {
      "cell_type": "code",
      "execution_count": 5,
      "metadata": {
        "id": "9NQ431sej9Q6"
      },
      "outputs": [],
      "source": [
        "import keras\n",
        "import keras_nlp\n",
        "\n",
        "# Run at half precision to fit in memory\n",
        "keras.config.set_floatx(\"bfloat16\")\n",
        "\n",
        "import textwrap\n",
        "from IPython.display import Markdown\n",
        "\n",
        "\n",
        "def to_markdown(text):\n",
        "    text = text.replace(\"•\", \"  *\")\n",
        "    return Markdown(textwrap.indent(text, \"> \", predicate=lambda _: True))\n",
        "\n",
        "gemma_lm = keras_nlp.models.GemmaCausalLM.from_preset(\"gemma2_instruct_2b_en\")\n",
        "gemma_lm.compile(sampler=\"top_k\")\n",
        "\n",
        "\n",
        "class ChatState():\n",
        "  \"\"\"\n",
        "  Manages the conversation history for a turn-based chatbot\n",
        "  Follows the turn-based conversation guidelines for the Gemma family of models\n",
        "  documented at https://ai.google.dev/gemma/docs/formatting\n",
        "  \"\"\"\n",
        "\n",
        "  __START_TURN_USER__ = \"<start_of_turn>user\\n\"\n",
        "  __START_TURN_MODEL__ = \"<start_of_turn>model\\n\"\n",
        "  __END_TURN__ = \"<end_of_turn>\\n\"\n",
        "\n",
        "  def __init__(self, model, system=\"\"):\n",
        "    \"\"\"\n",
        "    Initializes the chat state.\n",
        "\n",
        "    Args:\n",
        "        model: The language model to use for generating responses.\n",
        "        system: (Optional) System instructions or bot description.\n",
        "    \"\"\"\n",
        "    self.model = model\n",
        "    self.system = system\n",
        "    self.history = []\n",
        "\n",
        "  def add_to_history_as_user(self, message):\n",
        "      \"\"\"\n",
        "      Adds a user message to the history with start/end turn markers.\n",
        "      \"\"\"\n",
        "      self.history.append(self.__START_TURN_USER__ + message + self.__END_TURN__)\n",
        "\n",
        "  def add_to_history_as_model(self, message):\n",
        "      \"\"\"\n",
        "      Adds a model response to the history with start/end turn markers.\n",
        "      \"\"\"\n",
        "      self.history.append(self.__START_TURN_MODEL__ + message)\n",
        "\n",
        "  def get_history(self):\n",
        "      \"\"\"\n",
        "      Returns the entire chat history as a single string.\n",
        "      \"\"\"\n",
        "      return \"\".join([*self.history])\n",
        "\n",
        "  def get_full_prompt(self):\n",
        "    \"\"\"\n",
        "    Builds the prompt for the language model, including history and system description.\n",
        "    \"\"\"\n",
        "    prompt = self.get_history() + self.__START_TURN_MODEL__\n",
        "    if len(self.system)>0:\n",
        "      prompt = self.system + \"\\n\" + prompt\n",
        "    return prompt\n",
        "\n",
        "  def send_message(self, message):\n",
        "    \"\"\"\n",
        "    Handles sending a user message and getting a model response.\n",
        "\n",
        "    Args:\n",
        "        message: The user's message.\n",
        "\n",
        "    Returns:\n",
        "        The model's response.\n",
        "    \"\"\"\n",
        "    self.add_to_history_as_user(message)\n",
        "    prompt = self.get_full_prompt()\n",
        "    response = self.model.generate(prompt, max_length=4096)\n",
        "    result = response.replace(prompt, \"\")  # Extract only the new response\n",
        "    self.add_to_history_as_model(result)\n",
        "    return result\n",
        "\n",
        "  def show_history(self):\n",
        "    for h in self.history:\n",
        "      print(h)\n",
        "\n",
        "\n",
        "chat = ChatState(gemma_lm)"
      ]
    },
    {
      "cell_type": "markdown",
      "metadata": {
        "id": "slvLngXKlIIh"
      },
      "source": [
        "## Elaborate with the given core game concept"
      ]
    },
    {
      "cell_type": "code",
      "execution_count": 6,
      "metadata": {
        "id": "B49foWx2lQe0",
        "outputId": "d4a4e57f-ab2c-4add-b24b-b0ca7a0ba367",
        "colab": {
          "base_uri": "https://localhost:8080/",
          "height": 835
        }
      },
      "outputs": [
        {
          "output_type": "execute_result",
          "data": {
            "text/plain": [
              "<IPython.core.display.Markdown object>"
            ],
            "text/markdown": "> Okay, let's flesh out this game idea:\n> \n> **Title:** The Clockwork Shogun\n> \n> **Genre:** Action RPG with a heavy emphasis on narrative and choice-driven story. \n> \n> **Setting:** \n> \n> * **Joseon Reimagined:**  The game takes place in a Joseon-inspired setting, but with a futuristic twist. Steam-powered technology, clockwork automatons, and intricate gears are woven into everyday life. \n> * **Imperial City of Gyeongju:** The bustling metropolis, a blend of ancient traditions and advanced technology. Think ornate palaces powered by steam, clockwork streetlights, and citizens using mechanical tools for daily tasks.\n> * **Outskirts and Hidden Villages:** Explore remote areas with traditional Joseon architecture, hinting at a hidden past, and encounter nomadic tribes using clockwork devices for survival.\n> * **The Shogunate:** The ruling power in the Joseon Dynasty is a technologically advanced, almost totalitarian regime, with strict laws and control over the population. The Shogunate has a complex history, with whispers of a forgotten past and hidden agendas.\n> \n> \n> **Character & Story:**\n> \n> * **You are a young, ambitious inventor:**  You have a knack for building and tinkering with clockwork contraptions. You are a rebel with a desire to uncover the truth about the past. \n> * **The Past is Unraveling:** Your journey begins when an ancient scroll is discovered in your workshop, detailing a forgotten legend of a hidden power source that could change the fate of the nation. \n> * **The Revolution:**  You become embroiled in the rising tide of rebellion against the Shogunate. \n> \n> **Gameplay:**\n> \n> * **Action-Packed Battles:** Utilize your clockwork creations as weapons. Think of steampunk-style weapons like clockwork cannons, grappling hooks, or mechanical shields.\n> * **Exploration:** Explore the bustling streets, hidden temples, and the vast wilderness, uncovering secrets and interacting with a cast of diverse characters.\n> * **Dialogue System:**  Your choices impact the story, leading to multiple endings and different perspectives on the rebellion.\n> * **Crafting and Customization:**  Develop your own unique clockwork gadgets, upgrade existing inventions, and customize your character’s gear.\n> * **Social and Political Intrigue:** Engage in political intrigue by forming alliances, sabotaging the Shogunate's operations, or exposing their secrets.\n> \n> **Themes:**\n> \n> * **Technological Advancement vs. Tradition:** Explore the tension between embracing technology and preserving ancient customs within the Joseon context. \n> * **Power and Control:** Examine the dangers of unchecked power and the importance of freedom and individual expression.\n> * **The Power of Knowledge:** The game highlights the importance of historical truth and the dangers of censorship and manipulation.\n> * **Hope and Resistance:** The narrative explores the resilience of the human spirit against authoritarianism and the fight for a better future.\n> \n> **Potential Features:**\n> \n> * **Character Development:**  Choose your own path by aligning with different factions, each with unique goals and perspectives.  Develop a strong character with their own backstory.\n> * **Moral Choices:**  The game will force the player to make difficult choices. \n> * **Multiple Endings:** Depending on choices and actions, the player can experience a variety of endings.\n> * **Stunning Visuals:**  Combine the elegance of Joseon-inspired architecture with the steampunk aesthetic of advanced technologies.\n> \n> \n> **This game concept offers a unique blend of action, intrigue and historical fantasy, providing players with a compelling narrative experience in a fascinating world.** \n> <end_of_turn>"
          },
          "metadata": {},
          "execution_count": 6
        }
      ],
      "source": [
        "result = chat.send_message(\n",
        "    f\"Elaborate about this game with the given core concept below.\\n{pitch}\"\n",
        ")\n",
        "to_markdown(result)"
      ]
    },
    {
      "cell_type": "markdown",
      "metadata": {
        "id": "rePDwH-kesBv"
      },
      "source": [
        "## Main Characters"
      ]
    },
    {
      "cell_type": "code",
      "execution_count": 7,
      "metadata": {
        "id": "5SWcXllmm-GW",
        "outputId": "3cf4948e-136c-453e-e37c-d90177ef6f08",
        "colab": {
          "base_uri": "https://localhost:8080/",
          "height": 819
        }
      },
      "outputs": [
        {
          "output_type": "execute_result",
          "data": {
            "text/plain": [
              "<IPython.core.display.Markdown object>"
            ],
            "text/markdown": "> Here's a character design outline for the Clockwork Shogun game:\n> \n> **Protagonist:**\n> \n> * **Name:** Jin-ah Park (meaning \"bright\" and \"flower\" in Korean)\n> * **Age:** 22\n> * **Background:** A young, passionate inventor and tinkerer. Jin-ah grew up in the shadow of the Shogunate, witnessing its oppressive rule firsthand.  They have a talent for understanding and building intricate clockwork mechanisms and are driven by a desire to uncover the truth behind their family's mysterious past. They are resourceful, quick-witted, and possess a rebellious spirit.\n> \n> * **Visual:** Jin-ah is a slender young woman with striking dark eyes and short, choppy black hair. She has a mischievous smile and a determined expression. They often wear practical attire with pockets full of tools, a worn leather satchel, and maybe even a small clockwork automaton as a companion.\n> \n> **Supporting Characters:**\n> \n> * **Name:** Eun-ji (meaning \"graceful and virtuous\")\n> * **Age:** 25\n> * **Background:** A skilled warrior and a trusted member of the rebel movement. Eun-ji is fiercely loyal to Jin-ah and a master of both traditional swordsmanship and the use of advanced clockwork weaponry. They are a strong, silent type, but their loyalty is unwavering and they possess a deep understanding of the complexities of the Joseon court.\n> * **Visual:** Eun-ji has a lean, athletic build and long, braided hair tied back in a bun. They are adorned with simple yet elegant armor that seamlessly blends traditional and modern design elements.\n> \n> * **Name:** Master Kang (meaning \"wise old master\")\n> * **Age:** 65\n> * **Background:** A renowned scholar of Joseon history and a former court advisor. Master Kang is deeply connected with ancient texts and possesses a vast knowledge of forgotten traditions. He serves as Jin-ah's mentor and guide, offering cryptic warnings, historical insights, and cryptic clues about the power source. \n> * **Visual:** Master Kang is a frail but sharp-eyed elder. He wears traditional Hanbok with an air of wisdom and authority, often adorned with ornate jewelry and intricate clockwork accessories.\n> \n> **Antagonist:**\n> \n> * **Name:** Lord Han (meaning \"bright moon\")\n> * **Age:** 40\n> * **Background:**  The ruthless Shogunate Minister, Lord Han is a powerful manipulator with a thirst for power. He believes in a strict, technologically controlled society.  He sees Jin-ah as a threat and will stop at nothing to crush the rebellion. \n> * **Visual:** Lord Han is a tall and imposing man with a cold, calculating demeanor. His clothing is a mixture of traditional and futuristic, with ornate armor that reflects his position of power.\n> \n> \n> **Additional Notes:**\n> \n> \n> * The characters will have their own unique dialogue, personalities, and motivations, creating a rich tapestry of relationships and dynamics within the game. \n> * The characters' relationships and alliances can be further explored through side missions, quests, and interactions.\n> * The characters can be developed further as the game progresses, allowing player choices and actions to shape their destinies.\n> \n> \n> \n> Let me know if you'd like to explore any of these characters or relationships in more depth, and we can continue to develop their backstories! \n> <end_of_turn>"
          },
          "metadata": {},
          "execution_count": 7
        }
      ],
      "source": [
        "result = chat.send_message(\"Design main characters.\")\n",
        "to_markdown(result)"
      ]
    },
    {
      "cell_type": "markdown",
      "metadata": {
        "id": "T6nTOt5reta2"
      },
      "source": [
        "## Villain Characters"
      ]
    },
    {
      "cell_type": "code",
      "execution_count": 8,
      "metadata": {
        "id": "eSeNGJZKWwM0",
        "outputId": "932e1881-bd7b-413d-88dc-3fbb6f422bd6",
        "colab": {
          "base_uri": "https://localhost:8080/",
          "height": 840
        }
      },
      "outputs": [
        {
          "output_type": "execute_result",
          "data": {
            "text/plain": [
              "<IPython.core.display.Markdown object>"
            ],
            "text/markdown": "> Here are some villain concepts to create a compelling and nuanced antagonist for your Clockwork Shogun game:\n> \n> **The \"Clockwork Tyrant\":**\n> \n> * **Name:** Lord Shin (meaning \"bright\" and \"sharp\" in Korean)\n> * **Age:** 45\n> * **Background:**  A brilliant but ruthless engineer and the Shogun's most trusted advisor. He believes that true power lies in the control of technology and that traditional values are a hindrance to progress. Lord Shin sees himself as a savior, building a perfect, clockwork utopia for the Joseon Dynasty. \n> * **Motivation and Goals:** \n>     * **Control and Order:**  His ambition is to establish a totalitarian regime where technology reigns supreme. He believes that the chaos of the past, the human flaws of emotions and free will are obstacles to true progress.\n>     * **The Power Source**:  He seeks to control a mysterious artifact known as the \"Heart of the Dragon\", a mythical clockwork heart rumored to hold untold power. He believes this will unlock a hidden level of technology and allow the Joseon Dynasty to become a technological powerhouse.\n> * **Visuals:**  Lord Shin is a tall, imposing man with piercing blue eyes and a sharp, predatory demeanor. He wears a dark, sleek suit with intricate clockwork gears and mechanical accents that reflect his obsession with technology. \n> * **Personality:** Cold, calculating, manipulative, charismatic when it suits him, he is driven by an unshakeable belief in his vision. He is a master strategist, capable of manipulating others and using technology to his advantage.\n> \n> **The \"Forgotten Legacy\":**\n> \n> * **Name:** Lady Seong (meaning \"beautiful\" and \"wise\")\n> * **Age:**  Unknown\n> * **Background:**  A mysterious figure from a long-lost lineage within the Joseon Dynasty. She is believed to be a descendant of a powerful sorcerer who mastered ancient clockwork magic. She has been hiding in the shadows for centuries, waiting for the right time to return and reshape the world.\n> * **Motivation:**  Seong seeks to restore the ancient power of her ancestors, believing they are the key to achieving true enlightenment.  She wants to unleash a new form of technological magic that will usher in a new world order.\n> * **Visuals:** Lady Seong is a captivating and enigmatic figure, with a haunting beauty that belies her age. She wears flowing traditional clothing but with intricate clockwork embellishments, her movements fluid and graceful. \n> * **Personality:**  Ambiguous and enigmatic, she can be charming and manipulative. However, her true motives are shrouded in secrecy, and her intentions are unclear, making her a powerful and dangerous adversary.\n> \n> **Additional Villain Concepts:**\n> \n> *  **The Clockwork Cultist:** This could be a fanatical follower of a forgotten cult that worships the Heart of the Dragon, willing to unleash its destructive power.\n> * **The Clockwork Assassin:** A master assassin, skilled with clockwork weapons and gadgets, working directly for Lord Shin to eliminate anyone who opposes him.\n> \n> \n> **Key Points:** \n> \n> * **Motivation:** Each villain should have a strong, well-defined motivation, driving their actions and creating conflict.\n> * **Connection to Clockwork:** Their motivations should connect to the game's core mechanics, such as the use of clockwork technology or the search for hidden knowledge. \n> * **Visual Design:**  The villains should have distinct visual designs that reflect their personalities, powers, and motivations.\n> * **Moral Ambiguity:**  Consider giving villains some complexity, perhaps a sense of tragedy or a hidden agenda, to create a more nuanced and compelling antagonist. \n> \n> \n> \n> Let me know if you'd like to delve deeper into any of these villains, or want to brainstorm more ideas!  <end_of_turn>"
          },
          "metadata": {},
          "execution_count": 8
        }
      ],
      "source": [
        "result = chat.send_message(\"Design villain characters.\")\n",
        "to_markdown(result)"
      ]
    },
    {
      "cell_type": "markdown",
      "metadata": {
        "id": "Bxx6ftEve5C1"
      },
      "source": [
        "## Main Story"
      ]
    },
    {
      "cell_type": "code",
      "execution_count": 9,
      "metadata": {
        "id": "tG6HM-yJnJoF",
        "outputId": "852dc118-39ec-44ac-8279-998e3f24246b",
        "colab": {
          "base_uri": "https://localhost:8080/",
          "height": 916
        }
      },
      "outputs": [
        {
          "output_type": "execute_result",
          "data": {
            "text/plain": [
              "<IPython.core.display.Markdown object>"
            ],
            "text/markdown": "> Here's the potential story outline, with the introduction, development, turn, and conclusion for your Clockwork Shogun game:\n> \n> **I. Introduction (Act 1: Whispers of Revolution)**\n> \n> * **The Discovery:** The game begins in Gyeongju, the capital of the Joseon Dynasty.  Jin-ah, a young inventor with a rebellious spirit, is working in their workshop. They stumble upon an ancient scroll detailing a forgotten power source hidden somewhere in the Shogunate's archives – a legend called \"The Heart of the Dragon\". The scroll hints at a time when Joseon was a technological powerhouse, a legacy lost to time.\n> * **Seeds of Rebellion:**  Jin-ah's curiosity is piqued, but they also witness firsthand the harshness of the Shogunate regime, the strict laws, and the constant surveillance. This awakens a sense of urgency and injustice within them.\n> * **Meeting the Resistance:** Jin-ah meets Eun-ji, a warrior skilled in traditional weapons and clockwork combat, who is a part of the growing resistance movement.  They share a mutual desire for freedom, a shared vision of a brighter future.\n> \n> **II. Development (Act 2: Clockwork Awakening)**\n> \n> * **Uncovering the Secret:** Jin-ah and Eun-ji begin a dangerous quest to decipher the scroll and uncover the Heart of the Dragon's location. They navigate the Shogunate's complex bureaucracy and infiltrate secret archives, uncovering clues hidden in the past.  Their investigations lead them to the Clockmaker's Guild, a hidden organization of talented artisans who possess knowledge of advanced technologies. The Guild is both a source of information and a potential ally. \n> \n> * **Master Kang and the Past:**  Master Kang reveals a connection to ancient clockwork magic, lost knowledge that can help unlock the Heart. He guides Jin-ah and Eun-ji in understanding the power of their technology and its potential for both good and evil.  \n> * **Lord Shin's Schemes:**  Lord Shin, the Shogunate Minister, is aware of the growing rebellion and is determined to crush it. He begins using his own clockwork technology, creating powerful weapons designed for control and suppression. \n> * **First Battles and Choices:** Jin-ah and Eun-ji are forced to engage in their own skirmishes with the Shogunate's guards and other forces loyal to them.  These battles force them to develop their unique combat skills, learn to utilize advanced clockwork gadgets,  and face difficult choices about the morality of their actions.\n> \n> **III. The Turning Point (Act 3: Clockwork Rebellion)**\n> \n> * **The Heart Awakened:**  Jin-ah and Eun-ji finally locate the Heart of the Dragon. The discovery triggers a cascade of unforeseen events. The Heart activates, causing strange and unpredictable changes to both the world and the people. \n> * **Lord Shin's Power:**  Lord Shin uses the Heart to amplify his control over technology and the Shogunate forces.  The world around Gyeongju begins to be shaped into a more rigid, automated society, under Lord Shin's iron fist.\n> * **Lady Seong's Intervention:**  Lady Seong appears, seeking to use the Heart’s power for a different purpose, one that is both ambitious and dangerous. She reveals a hidden connection to the ancient clockwork magic, and her motives are more complex than initially believed. \n> * **A Choice for the Future:**  Jin-ah and Eun-ji are now faced with a critical decision: embrace Lord Shin's technological utopia or fight to restore the balance of power, potentially unleashing forces beyond their understanding, and risking the destruction of the world they know.\n> \n> **IV. Conclusion (Act 4: The Price of Progress)** \n> * **Confrontation and Sacrifice:** The climax sees Jin-ah and Eun-ji confronting Lord Shin in a final showdown that involves a choice to embrace the Heart or to find a way to control its power. \n> * **Consequences of Choice:**  The final choice Jin-ah makes shapes their destiny and the fate of the entire Joseon Dynasty. The game ends with a bittersweet victory, with consequences and sacrifices made in the pursuit of freedom and justice.  \n> * **The Future of Gyeongju:** The Heart of the Dragon is either used to create a new society, or it's sealed away, leaving the future of Gyeongju and the nation uncertain. \n> \n> \n> **Key Considerations:**\n> \n> * **Choices and Consequence:**  The game should emphasize player choices and their impact on the storyline. Each decision will influence Jin-ah's character development and the fate of the world.\n> * **Moral Gray Areas:**  The story should explore complex moral dilemmas, forcing players to question the line between right and wrong.\n> * **The Power of Knowledge:**  The game should emphasize the importance of knowledge and its potential for both good and evil. \n>  \n> **Note**: These details are a foundation. You can adjust and expand on them, adding new characters, locations, and subplots to create a truly unique and compelling narrative. \n> \n> \n> Let me know if you'd like to delve into any of these details further, or if you have any other ideas!<end_of_turn>"
          },
          "metadata": {},
          "execution_count": 9
        }
      ],
      "source": [
        "result = chat.send_message(\n",
        "    \"Write the main story of this game with an introduction, development, turn, and conclusion.\"\n",
        ")\n",
        "to_markdown(result)"
      ]
    },
    {
      "cell_type": "markdown",
      "metadata": {
        "id": "CNAwQXG2Tbee"
      },
      "source": [
        "## Show the chat history"
      ]
    },
    {
      "cell_type": "code",
      "execution_count": 10,
      "metadata": {
        "id": "4qW12hdKTfc2",
        "outputId": "d117ee81-37e9-453d-8cde-0d7c24303f9b",
        "colab": {
          "base_uri": "https://localhost:8080/"
        }
      },
      "outputs": [
        {
          "output_type": "stream",
          "name": "stdout",
          "text": [
            "<start_of_turn>user\n",
            "Elaborate about this game with the given core concept below.\n",
            "In the heart of a reimagined Joseon Dynasty, where steam-powered machines and clockwork contraptions reign supreme, embark on an epic adventure to unravel the mysteries of a forgotten past and shape the destiny of a nation on the brink of revolution.<end_of_turn>\n",
            "\n",
            "<start_of_turn>model\n",
            "Okay, let's flesh out this game idea:\n",
            "\n",
            "**Title:** The Clockwork Shogun\n",
            "\n",
            "**Genre:** Action RPG with a heavy emphasis on narrative and choice-driven story. \n",
            "\n",
            "**Setting:** \n",
            "\n",
            "* **Joseon Reimagined:**  The game takes place in a Joseon-inspired setting, but with a futuristic twist. Steam-powered technology, clockwork automatons, and intricate gears are woven into everyday life. \n",
            "* **Imperial City of Gyeongju:** The bustling metropolis, a blend of ancient traditions and advanced technology. Think ornate palaces powered by steam, clockwork streetlights, and citizens using mechanical tools for daily tasks.\n",
            "* **Outskirts and Hidden Villages:** Explore remote areas with traditional Joseon architecture, hinting at a hidden past, and encounter nomadic tribes using clockwork devices for survival.\n",
            "* **The Shogunate:** The ruling power in the Joseon Dynasty is a technologically advanced, almost totalitarian regime, with strict laws and control over the population. The Shogunate has a complex history, with whispers of a forgotten past and hidden agendas.\n",
            "\n",
            "\n",
            "**Character & Story:**\n",
            "\n",
            "* **You are a young, ambitious inventor:**  You have a knack for building and tinkering with clockwork contraptions. You are a rebel with a desire to uncover the truth about the past. \n",
            "* **The Past is Unraveling:** Your journey begins when an ancient scroll is discovered in your workshop, detailing a forgotten legend of a hidden power source that could change the fate of the nation. \n",
            "* **The Revolution:**  You become embroiled in the rising tide of rebellion against the Shogunate. \n",
            "\n",
            "**Gameplay:**\n",
            "\n",
            "* **Action-Packed Battles:** Utilize your clockwork creations as weapons. Think of steampunk-style weapons like clockwork cannons, grappling hooks, or mechanical shields.\n",
            "* **Exploration:** Explore the bustling streets, hidden temples, and the vast wilderness, uncovering secrets and interacting with a cast of diverse characters.\n",
            "* **Dialogue System:**  Your choices impact the story, leading to multiple endings and different perspectives on the rebellion.\n",
            "* **Crafting and Customization:**  Develop your own unique clockwork gadgets, upgrade existing inventions, and customize your character’s gear.\n",
            "* **Social and Political Intrigue:** Engage in political intrigue by forming alliances, sabotaging the Shogunate's operations, or exposing their secrets.\n",
            "\n",
            "**Themes:**\n",
            "\n",
            "* **Technological Advancement vs. Tradition:** Explore the tension between embracing technology and preserving ancient customs within the Joseon context. \n",
            "* **Power and Control:** Examine the dangers of unchecked power and the importance of freedom and individual expression.\n",
            "* **The Power of Knowledge:** The game highlights the importance of historical truth and the dangers of censorship and manipulation.\n",
            "* **Hope and Resistance:** The narrative explores the resilience of the human spirit against authoritarianism and the fight for a better future.\n",
            "\n",
            "**Potential Features:**\n",
            "\n",
            "* **Character Development:**  Choose your own path by aligning with different factions, each with unique goals and perspectives.  Develop a strong character with their own backstory.\n",
            "* **Moral Choices:**  The game will force the player to make difficult choices. \n",
            "* **Multiple Endings:** Depending on choices and actions, the player can experience a variety of endings.\n",
            "* **Stunning Visuals:**  Combine the elegance of Joseon-inspired architecture with the steampunk aesthetic of advanced technologies.\n",
            "\n",
            "\n",
            "**This game concept offers a unique blend of action, intrigue and historical fantasy, providing players with a compelling narrative experience in a fascinating world.** \n",
            "<end_of_turn>\n",
            "<start_of_turn>user\n",
            "Design main characters.<end_of_turn>\n",
            "\n",
            "<start_of_turn>model\n",
            "Here's a character design outline for the Clockwork Shogun game:\n",
            "\n",
            "**Protagonist:**\n",
            "\n",
            "* **Name:** Jin-ah Park (meaning \"bright\" and \"flower\" in Korean)\n",
            "* **Age:** 22\n",
            "* **Background:** A young, passionate inventor and tinkerer. Jin-ah grew up in the shadow of the Shogunate, witnessing its oppressive rule firsthand.  They have a talent for understanding and building intricate clockwork mechanisms and are driven by a desire to uncover the truth behind their family's mysterious past. They are resourceful, quick-witted, and possess a rebellious spirit.\n",
            "\n",
            "* **Visual:** Jin-ah is a slender young woman with striking dark eyes and short, choppy black hair. She has a mischievous smile and a determined expression. They often wear practical attire with pockets full of tools, a worn leather satchel, and maybe even a small clockwork automaton as a companion.\n",
            "\n",
            "**Supporting Characters:**\n",
            "\n",
            "* **Name:** Eun-ji (meaning \"graceful and virtuous\")\n",
            "* **Age:** 25\n",
            "* **Background:** A skilled warrior and a trusted member of the rebel movement. Eun-ji is fiercely loyal to Jin-ah and a master of both traditional swordsmanship and the use of advanced clockwork weaponry. They are a strong, silent type, but their loyalty is unwavering and they possess a deep understanding of the complexities of the Joseon court.\n",
            "* **Visual:** Eun-ji has a lean, athletic build and long, braided hair tied back in a bun. They are adorned with simple yet elegant armor that seamlessly blends traditional and modern design elements.\n",
            "\n",
            "* **Name:** Master Kang (meaning \"wise old master\")\n",
            "* **Age:** 65\n",
            "* **Background:** A renowned scholar of Joseon history and a former court advisor. Master Kang is deeply connected with ancient texts and possesses a vast knowledge of forgotten traditions. He serves as Jin-ah's mentor and guide, offering cryptic warnings, historical insights, and cryptic clues about the power source. \n",
            "* **Visual:** Master Kang is a frail but sharp-eyed elder. He wears traditional Hanbok with an air of wisdom and authority, often adorned with ornate jewelry and intricate clockwork accessories.\n",
            "\n",
            "**Antagonist:**\n",
            "\n",
            "* **Name:** Lord Han (meaning \"bright moon\")\n",
            "* **Age:** 40\n",
            "* **Background:**  The ruthless Shogunate Minister, Lord Han is a powerful manipulator with a thirst for power. He believes in a strict, technologically controlled society.  He sees Jin-ah as a threat and will stop at nothing to crush the rebellion. \n",
            "* **Visual:** Lord Han is a tall and imposing man with a cold, calculating demeanor. His clothing is a mixture of traditional and futuristic, with ornate armor that reflects his position of power.\n",
            "\n",
            "\n",
            "**Additional Notes:**\n",
            "\n",
            "\n",
            "* The characters will have their own unique dialogue, personalities, and motivations, creating a rich tapestry of relationships and dynamics within the game. \n",
            "* The characters' relationships and alliances can be further explored through side missions, quests, and interactions.\n",
            "* The characters can be developed further as the game progresses, allowing player choices and actions to shape their destinies.\n",
            "\n",
            "\n",
            "\n",
            "Let me know if you'd like to explore any of these characters or relationships in more depth, and we can continue to develop their backstories! \n",
            "<end_of_turn>\n",
            "<start_of_turn>user\n",
            "Design villain characters.<end_of_turn>\n",
            "\n",
            "<start_of_turn>model\n",
            "Here are some villain concepts to create a compelling and nuanced antagonist for your Clockwork Shogun game:\n",
            "\n",
            "**The \"Clockwork Tyrant\":**\n",
            "\n",
            "* **Name:** Lord Shin (meaning \"bright\" and \"sharp\" in Korean)\n",
            "* **Age:** 45\n",
            "* **Background:**  A brilliant but ruthless engineer and the Shogun's most trusted advisor. He believes that true power lies in the control of technology and that traditional values are a hindrance to progress. Lord Shin sees himself as a savior, building a perfect, clockwork utopia for the Joseon Dynasty. \n",
            "* **Motivation and Goals:** \n",
            "    * **Control and Order:**  His ambition is to establish a totalitarian regime where technology reigns supreme. He believes that the chaos of the past, the human flaws of emotions and free will are obstacles to true progress.\n",
            "    * **The Power Source**:  He seeks to control a mysterious artifact known as the \"Heart of the Dragon\", a mythical clockwork heart rumored to hold untold power. He believes this will unlock a hidden level of technology and allow the Joseon Dynasty to become a technological powerhouse.\n",
            "* **Visuals:**  Lord Shin is a tall, imposing man with piercing blue eyes and a sharp, predatory demeanor. He wears a dark, sleek suit with intricate clockwork gears and mechanical accents that reflect his obsession with technology. \n",
            "* **Personality:** Cold, calculating, manipulative, charismatic when it suits him, he is driven by an unshakeable belief in his vision. He is a master strategist, capable of manipulating others and using technology to his advantage.\n",
            "\n",
            "**The \"Forgotten Legacy\":**\n",
            "\n",
            "* **Name:** Lady Seong (meaning \"beautiful\" and \"wise\")\n",
            "* **Age:**  Unknown\n",
            "* **Background:**  A mysterious figure from a long-lost lineage within the Joseon Dynasty. She is believed to be a descendant of a powerful sorcerer who mastered ancient clockwork magic. She has been hiding in the shadows for centuries, waiting for the right time to return and reshape the world.\n",
            "* **Motivation:**  Seong seeks to restore the ancient power of her ancestors, believing they are the key to achieving true enlightenment.  She wants to unleash a new form of technological magic that will usher in a new world order.\n",
            "* **Visuals:** Lady Seong is a captivating and enigmatic figure, with a haunting beauty that belies her age. She wears flowing traditional clothing but with intricate clockwork embellishments, her movements fluid and graceful. \n",
            "* **Personality:**  Ambiguous and enigmatic, she can be charming and manipulative. However, her true motives are shrouded in secrecy, and her intentions are unclear, making her a powerful and dangerous adversary.\n",
            "\n",
            "**Additional Villain Concepts:**\n",
            "\n",
            "*  **The Clockwork Cultist:** This could be a fanatical follower of a forgotten cult that worships the Heart of the Dragon, willing to unleash its destructive power.\n",
            "* **The Clockwork Assassin:** A master assassin, skilled with clockwork weapons and gadgets, working directly for Lord Shin to eliminate anyone who opposes him.\n",
            "\n",
            "\n",
            "**Key Points:** \n",
            "\n",
            "* **Motivation:** Each villain should have a strong, well-defined motivation, driving their actions and creating conflict.\n",
            "* **Connection to Clockwork:** Their motivations should connect to the game's core mechanics, such as the use of clockwork technology or the search for hidden knowledge. \n",
            "* **Visual Design:**  The villains should have distinct visual designs that reflect their personalities, powers, and motivations.\n",
            "* **Moral Ambiguity:**  Consider giving villains some complexity, perhaps a sense of tragedy or a hidden agenda, to create a more nuanced and compelling antagonist. \n",
            "\n",
            "\n",
            "\n",
            "Let me know if you'd like to delve deeper into any of these villains, or want to brainstorm more ideas!  <end_of_turn>\n",
            "<start_of_turn>user\n",
            "Write the main story of this game with an introduction, development, turn, and conclusion.<end_of_turn>\n",
            "\n",
            "<start_of_turn>model\n",
            "Here's the potential story outline, with the introduction, development, turn, and conclusion for your Clockwork Shogun game:\n",
            "\n",
            "**I. Introduction (Act 1: Whispers of Revolution)**\n",
            "\n",
            "* **The Discovery:** The game begins in Gyeongju, the capital of the Joseon Dynasty.  Jin-ah, a young inventor with a rebellious spirit, is working in their workshop. They stumble upon an ancient scroll detailing a forgotten power source hidden somewhere in the Shogunate's archives – a legend called \"The Heart of the Dragon\". The scroll hints at a time when Joseon was a technological powerhouse, a legacy lost to time.\n",
            "* **Seeds of Rebellion:**  Jin-ah's curiosity is piqued, but they also witness firsthand the harshness of the Shogunate regime, the strict laws, and the constant surveillance. This awakens a sense of urgency and injustice within them.\n",
            "* **Meeting the Resistance:** Jin-ah meets Eun-ji, a warrior skilled in traditional weapons and clockwork combat, who is a part of the growing resistance movement.  They share a mutual desire for freedom, a shared vision of a brighter future.\n",
            "\n",
            "**II. Development (Act 2: Clockwork Awakening)**\n",
            "\n",
            "* **Uncovering the Secret:** Jin-ah and Eun-ji begin a dangerous quest to decipher the scroll and uncover the Heart of the Dragon's location. They navigate the Shogunate's complex bureaucracy and infiltrate secret archives, uncovering clues hidden in the past.  Their investigations lead them to the Clockmaker's Guild, a hidden organization of talented artisans who possess knowledge of advanced technologies. The Guild is both a source of information and a potential ally. \n",
            "\n",
            "* **Master Kang and the Past:**  Master Kang reveals a connection to ancient clockwork magic, lost knowledge that can help unlock the Heart. He guides Jin-ah and Eun-ji in understanding the power of their technology and its potential for both good and evil.  \n",
            "* **Lord Shin's Schemes:**  Lord Shin, the Shogunate Minister, is aware of the growing rebellion and is determined to crush it. He begins using his own clockwork technology, creating powerful weapons designed for control and suppression. \n",
            "* **First Battles and Choices:** Jin-ah and Eun-ji are forced to engage in their own skirmishes with the Shogunate's guards and other forces loyal to them.  These battles force them to develop their unique combat skills, learn to utilize advanced clockwork gadgets,  and face difficult choices about the morality of their actions.\n",
            "\n",
            "**III. The Turning Point (Act 3: Clockwork Rebellion)**\n",
            "\n",
            "* **The Heart Awakened:**  Jin-ah and Eun-ji finally locate the Heart of the Dragon. The discovery triggers a cascade of unforeseen events. The Heart activates, causing strange and unpredictable changes to both the world and the people. \n",
            "* **Lord Shin's Power:**  Lord Shin uses the Heart to amplify his control over technology and the Shogunate forces.  The world around Gyeongju begins to be shaped into a more rigid, automated society, under Lord Shin's iron fist.\n",
            "* **Lady Seong's Intervention:**  Lady Seong appears, seeking to use the Heart’s power for a different purpose, one that is both ambitious and dangerous. She reveals a hidden connection to the ancient clockwork magic, and her motives are more complex than initially believed. \n",
            "* **A Choice for the Future:**  Jin-ah and Eun-ji are now faced with a critical decision: embrace Lord Shin's technological utopia or fight to restore the balance of power, potentially unleashing forces beyond their understanding, and risking the destruction of the world they know.\n",
            "\n",
            "**IV. Conclusion (Act 4: The Price of Progress)** \n",
            "* **Confrontation and Sacrifice:** The climax sees Jin-ah and Eun-ji confronting Lord Shin in a final showdown that involves a choice to embrace the Heart or to find a way to control its power. \n",
            "* **Consequences of Choice:**  The final choice Jin-ah makes shapes their destiny and the fate of the entire Joseon Dynasty. The game ends with a bittersweet victory, with consequences and sacrifices made in the pursuit of freedom and justice.  \n",
            "* **The Future of Gyeongju:** The Heart of the Dragon is either used to create a new society, or it's sealed away, leaving the future of Gyeongju and the nation uncertain. \n",
            "\n",
            "\n",
            "**Key Considerations:**\n",
            "\n",
            "* **Choices and Consequence:**  The game should emphasize player choices and their impact on the storyline. Each decision will influence Jin-ah's character development and the fate of the world.\n",
            "* **Moral Gray Areas:**  The story should explore complex moral dilemmas, forcing players to question the line between right and wrong.\n",
            "* **The Power of Knowledge:**  The game should emphasize the importance of knowledge and its potential for both good and evil. \n",
            " \n",
            "**Note**: These details are a foundation. You can adjust and expand on them, adding new characters, locations, and subplots to create a truly unique and compelling narrative. \n",
            "\n",
            "\n",
            "Let me know if you'd like to delve into any of these details further, or if you have any other ideas!<end_of_turn>\n"
          ]
        }
      ],
      "source": [
        "chat.show_history()"
      ]
    },
    {
      "cell_type": "markdown",
      "metadata": {
        "id": "YYvLo-OLkj0g"
      },
      "source": [
        "## Clear History"
      ]
    },
    {
      "cell_type": "code",
      "execution_count": 11,
      "metadata": {
        "id": "ngWPjllXkljM"
      },
      "outputs": [],
      "source": [
        "chat.history.clear()"
      ]
    },
    {
      "cell_type": "markdown",
      "metadata": {
        "id": "O0fZNg2Eykbq"
      },
      "source": [
        "## Expansion Idea"
      ]
    },
    {
      "cell_type": "markdown",
      "metadata": {
        "id": "QP1zppatyosv"
      },
      "source": [
        "### Marketing Phrase"
      ]
    },
    {
      "cell_type": "code",
      "execution_count": 12,
      "metadata": {
        "id": "H2PcNCO_ytEP",
        "outputId": "e65cb6a0-2ee1-4ee0-9c99-96ecd56c9b45",
        "colab": {
          "base_uri": "https://localhost:8080/",
          "height": 446
        }
      },
      "outputs": [
        {
          "output_type": "execute_result",
          "data": {
            "text/plain": [
              "<IPython.core.display.Markdown object>"
            ],
            "text/markdown": "> Here are some marketing phrases for a new steam-powered toothbrush, playing with different angles:\n> \n> **Benefit Focus:**\n> \n> * **\"Blast away plaque, not your smile: Introducing the SteamShine toothbrush.\"**\n> * **\"Experience the power of steam cleaning: Your healthiest smile, just a click away.\"**\n> * **\"Deep clean. Gentle touch. SteamShine: Your daily smile revolution.\"**\n> * **\"Beyond brushing: SteamShine delivers a powerful, hygienic clean.\"**\n> \n> **Unique Selling Proposition:**\n> \n> * **\"The future of teeth care is here. Introducing SteamShine: The steam-powered revolution.\"**\n> * **\"Say goodbye to plaque and hello to SteamShine's revolutionary cleaning power.\"**\n> * **\"SteamShine: It's not just a toothbrush, it's a whole new level of oral hygiene.\"** \n> \n> **Intriguing/Playful:**\n> \n> * **\"Feel the steam. See the difference. SteamShine - Your smile will thank you.\"**\n> * **\"Ready for a breath of fresh air for your mouth?  Meet SteamShine.\"**\n> * **\"Get ready to steam roll your dental hygiene with SteamShine.\"**\n> \n> **Remember:**\n> \n> * **Target audience:** Consider who your ideal customer is and tailor your phrasing accordingly (e.g., health-conscious individuals, tech-savvy consumers, etc.).\n> * **Brand personality:** Reflect your brand's tone and style in the language you use.\n> * **Call to action:** Encourage potential customers to learn more or purchase the product. \n> \n> \n> \n> Let me know if you'd like me to explore more specific angles!  <end_of_turn>"
          },
          "metadata": {},
          "execution_count": 12
        }
      ],
      "source": [
        "chat.history.clear()\n",
        "pitch = \"A new steam-powered toothbrush\"\n",
        "result = chat.send_message(\n",
        "    f\"Generate a marketing phrase for the new product below.\\n{pitch}\"\n",
        ")\n",
        "to_markdown(result)"
      ]
    },
    {
      "cell_type": "markdown",
      "metadata": {
        "id": "oJbiCXoszJVN"
      },
      "source": [
        "### Florist Ideas"
      ]
    },
    {
      "cell_type": "code",
      "execution_count": 13,
      "metadata": {
        "id": "BKXXigmxzZp_",
        "outputId": "16530f95-6bc5-44f5-94e5-dfbe4553268c",
        "colab": {
          "base_uri": "https://localhost:8080/",
          "height": 633
        }
      },
      "outputs": [
        {
          "output_type": "execute_result",
          "data": {
            "text/plain": [
              "<IPython.core.display.Markdown object>"
            ],
            "text/markdown": "> ## Florist Idea: Celestial Bloom\n> \n> **Concept:**  This florist would be inspired by the beauty and wonder of space, specifically the universe and shooting stars. It's a magical and romantic theme, perfect for special occasions or simply a unique touch of whimsy.\n> \n> **Atmosphere:**\n> * Soft, ambient lighting with starry accents. \n> * Celestial-themed music (space-related soundtracks or ambient electronica). \n> *  A dark blue or deep purple color scheme, with pops of silver or gold. \n> *  A touch of celestial imagery like constellations or star charts. \n> \n> **Flower Selection:**\n> * **Cosmic Elegance:** White orchids, hydrangeas, and lilies symbolize the purity of space and the night sky.\n> * **Shooting Star Sparkle:**  Ranunculus and lisianthus, with their vibrant colors and delicate petals, evoke shooting stars.\n> * **Galaxy Glow:**  Deep purple and blue anemones, cosmos, and calla lillies add a sense of depth and intrigue. \n> * **Starry Night Blooms:**  Deep blue delphiniums and blue hydrangeas create a captivating night sky effect.\n> * **Lunar Charm:**  White roses and moonflower blossoms, representing the gentle beauty of the moon.\n> \n> \n> **Arrangement Ideas:**\n> * **Starry Night Wreath:**  A circular arrangement of white and blue blooms with twinkling fairy lights.\n> * **Galaxy Vase:**  A large vase filled with cosmos, anemones, and other deep purple flowers, accented by silver glitter.\n> * **Shooting Star Bouquet:**  A cascading bouquet of ranunculus, lisianthus, and other vibrant flowers, with a star-shaped accent.\n> * **Celestial Terrariums:**  Miniature terrariums filled with moss, air plants, and small blooming flowers, creating a miniature galaxy.\n> \n> \n> **Special Offers:**\n> * \"Cosmic Bouquet\" - A pre-designed bouquet with a galaxy or starry sky theme.\n> * \"Stargazer Package\" - A selection of flowers with a celestial twist, along with personalized star map and constellation chart.\n> * **\"Launch Your Romance\"**  A romantic bouquet with a personalized message on a celestial-themed card.\n> \n> **Marketing:**\n> *  Use social media platforms like Instagram and Pinterest to showcase the unique arrangements and create a visually appealing space.\n> *  Offer discounts for special occasions like Valentine's Day, anniversaries, and birthdays.\n> *  Collaborate with local photographers or artists to showcase the florist's vision and create a captivating brand image.\n> \n> \n> \n> By combining stunning floral arrangements with the enchanting theme of the universe and shooting stars, the Celestial Bloom florist can create a memorable and unforgettable experience for every customer. \n> <end_of_turn>"
          },
          "metadata": {},
          "execution_count": 13
        }
      ],
      "source": [
        "chat.history.clear()\n",
        "pitch = \"Universe and shooting stars\"\n",
        "result = chat.send_message(\n",
        "    f\"Generate a florist idea inspired by the concept below, along with suggestions for suitable flowers.\\n{pitch}\"\n",
        ")\n",
        "to_markdown(result)"
      ]
    },
    {
      "cell_type": "markdown",
      "metadata": {
        "id": "jsNqqjZwziHi"
      },
      "source": [
        "### Food Recipe"
      ]
    },
    {
      "cell_type": "code",
      "execution_count": 14,
      "metadata": {
        "id": "FbXyDjkfznJ_",
        "outputId": "3835fb73-42f0-4459-b4e0-cd2b8c9deb68",
        "colab": {
          "base_uri": "https://localhost:8080/",
          "height": 1000
        }
      },
      "outputs": [
        {
          "output_type": "execute_result",
          "data": {
            "text/plain": [
              "<IPython.core.display.Markdown object>"
            ],
            "text/markdown": "> ## Cybernetic Kraken Chowder\n> \n> **A cyberpunk twist on a classic, with a hint of tentacled terror!**\n> \n> **Concept:** This dish blends the hearty goodness of a classic chowder with cyberpunk-inspired twists and futuristic presentation.  \n> \n> **Ingredients:** (serves 4-6)\n> \n> * **Base:** \n>     * 1 lb. diced smoked sausage (pork, chorizo, or kielbasa)\n>     * 1 large onion, chopped \n>     * 2 cloves garlic, minced\n>     * 1 tbsp olive oil\n>     * 1/2 cup diced bacon, cooked and crumbled\n>     * 1 tbsp vegetable broth powder\n>     * 4 cups water\n> * **Seafood:**\n>     * 1 cup diced smoked fish (cod, haddock, or salmon)\n>     * 1/2 cup canned mussels, drained and chopped\n>     * 1/2 cup frozen shrimp, thawed and chopped\n> * **Veggies:**\n>     * 1 cup potatoes, diced\n>     * 1 can (14 oz) diced tomatoes, undrained\n>     * 1/2 cup chopped celery\n>     * 1/4 cup chopped green bell pepper\n>     * 1/4 cup frozen spinach, thawed and chopped\n> * **Cyberpunk Touches:**\n>     * 1/4 cup \"cyber-sauce\" (a spicy, smoky tomato-based sauce, see recipe below)\n>     * Edible glitter for garnish\n>     * Glowing LED light sticks for a cyberpunk ambiance\n> \n> **Cyber-Sauce Recipe:**\n> \n> * **Ingredients:**\n>     * 1/2 cup canned tomato sauce\n>     * 1 tbsp smoked paprika\n>     * 1 tsp chili powder\n>     * 1/2 tsp cumin\n>     * A pinch of black pepper\n>     * A dash of liquid smoke (optional)\n> * **Instructions:** Combine all ingredients in a saucepan and simmer for 10 minutes.\n> \n> **Instructions:**\n> 1. **Cook the base:** In a large saucepan, heat olive oil over medium heat. Add onion and cook until translucent, about 5 minutes. Add garlic and cook for 1 minute more. \n> 2. Add diced sausage and bacon. Cook until sausage is crispy. Stir in vegetable broth powder and water. \n> 3. Bring to a boil, then reduce heat and simmer for 10 minutes.\n> 4. **Add seafood and veggies:** Add diced smoked fish, mussels, shrimp, potatoes, tomatoes, celery, and green pepper to the soup. Simmer for 15-20 minutes or until vegetables are tender. \n> 5. **Add cyber-sauce:**  Stir in cyber-sauce and cook for 1 minute. \n> 6. **Serve:** Ladle soup into bowls. Decorate with edible glitter and LED light sticks for a cyberpunk glow. \n> \n> **Serving Suggestion:**  Serve with crusty bread for dipping and a side of neon-colored salad for a truly immersive experience.\n> \n> \n> **Enjoy your Cybernetic Kraken Chowder, and let your taste buds explore the depths of the digital age!**\n> \n> \n> **Bonus Tip:** To add a visual element, create \"cyber-circuits\" out of edible food coloring and arrange them around the rim of the bowls. \n> <end_of_turn>"
          },
          "metadata": {},
          "execution_count": 14
        }
      ],
      "source": [
        "chat.history.clear()\n",
        "pitch = \"Cyberpunk Kraken\"\n",
        "result = chat.send_message(\n",
        "    f\"Generate a cooking recipe with the concept below.\\n{pitch}\"\n",
        ")\n",
        "to_markdown(result)"
      ]
    }
  ],
  "metadata": {
    "accelerator": "GPU",
    "colab": {
      "name": "[Gemma_2]Game_Design_Brainstorming.ipynb",
      "toc_visible": true,
      "provenance": [],
      "gpuType": "T4"
    },
    "kernelspec": {
      "display_name": "Python 3",
      "name": "python3"
    }
  },
  "nbformat": 4,
  "nbformat_minor": 0
}